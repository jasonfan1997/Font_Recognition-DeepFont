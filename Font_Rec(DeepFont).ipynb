{
 "cells": [
  {
   "cell_type": "code",
   "execution_count": 1,
   "metadata": {
    "colab": {},
    "colab_type": "code",
    "id": "hUkBRdY8ndhZ",
    "scrolled": true
   },
   "outputs": [],
   "source": [
    "from tensorflow import keras\n",
    "import tensorflow as tf\n",
    "from matplotlib.pyplot import imshow\n",
    "import matplotlib.cm as cm\n",
    "import matplotlib.pylab as plt\n",
    "from tensorflow.keras.preprocessing.image import ImageDataGenerator\n",
    "import numpy as np\n",
    "import PIL\n",
    "from PIL import ImageFilter\n",
    "import cv2\n",
    "import itertools\n",
    "import random\n",
    "import imutils\n",
    "from imutils import paths\n",
    "import os\n",
    "from tensorflow.keras import optimizers\n",
    "from tensorflow.keras.preprocessing.image import img_to_array\n",
    "from sklearn.model_selection import train_test_split\n",
    "from tensorflow.keras.utils import to_categorical\n",
    "from tensorflow.keras import callbacks\n",
    "from tensorflow.keras.models import Sequential\n",
    "from tensorflow.python.keras.layers.normalization import BatchNormalization\n",
    "from tensorflow.python.keras.layers import Dense, Dropout, Flatten\n",
    "from tensorflow.python.keras.layers import Conv2D, MaxPooling2D , UpSampling2D ,Conv2DTranspose\n",
    "from tensorflow.keras import backend as K\n",
    "K.set_image_data_format('channels_last')\n",
    "%matplotlib inline"
   ]
  },
  {
   "cell_type": "code",
   "execution_count": 2,
   "metadata": {
    "colab": {},
    "colab_type": "code",
    "id": "JHEynQv2ndhn"
   },
   "outputs": [],
   "source": [
    "def pil_image(img_path):\n",
    "    pil_im =PIL.Image.open(img_path).convert('L')\n",
    "    pil_im=pil_im.resize((105,105))\n",
    "    #imshow(np.asarray(pil_im))\n",
    "    return pil_im"
   ]
  },
  {
   "cell_type": "markdown",
   "metadata": {
    "colab_type": "text",
    "id": "1hbTCU2qndht"
   },
   "source": [
    "# Augumentation Steps \n",
    "1) Noise\n",
    "2) Blur\n",
    "3) Perpective Rotation\n",
    "4) Shading\n",
    "5) Variable Character Spacing\n",
    "6) Variable Aspect Ratio"
   ]
  },
  {
   "cell_type": "code",
   "execution_count": 3,
   "metadata": {
    "colab": {},
    "colab_type": "code",
    "id": "MLCHbBKsndhv"
   },
   "outputs": [],
   "source": [
    "def noise_image(pil_im):\n",
    "    # Adding Noise to image\n",
    "    img_array = np.asarray(pil_im)\n",
    "    mean = 0.0   # some constant\n",
    "    std = 5   # some constant (standard deviation)\n",
    "    noisy_img = img_array + np.random.normal(mean, std, img_array.shape)\n",
    "    noisy_img_clipped = np.clip(noisy_img, 0, 255)\n",
    "    noise_img = PIL.Image.fromarray(np.uint8(noisy_img_clipped)) # output\n",
    "    #imshow((noisy_img_clipped ).astype(np.uint8))\n",
    "    noise_img=noise_img.resize((105,105))\n",
    "    return noise_img"
   ]
  },
  {
   "cell_type": "code",
   "execution_count": 4,
   "metadata": {
    "colab": {},
    "colab_type": "code",
    "id": "5TPvDBV5ndh2"
   },
   "outputs": [],
   "source": [
    "def blur_image(pil_im):\n",
    "    #Adding Blur to image \n",
    "    blur_img = pil_im.filter(ImageFilter.GaussianBlur(radius=3)) # ouput\n",
    "    #imshow(blur_img)\n",
    "    blur_img=blur_img.resize((105,105))\n",
    "    return blur_img"
   ]
  },
  {
   "cell_type": "code",
   "execution_count": 5,
   "metadata": {
    "colab": {},
    "colab_type": "code",
    "id": "CIDSvv7Qndh6"
   },
   "outputs": [],
   "source": [
    "def affine_rotation(img):\n",
    "    \n",
    "    #img=cv2.imread(img_path,0)\n",
    "    rows, columns = img.shape\n",
    "\n",
    "    point1 = np.float32([[10, 10], [30, 10], [10, 30]])\n",
    "    point2 = np.float32([[20, 15], [40, 10], [20, 40]])\n",
    "\n",
    "    A = cv2.getAffineTransform(point1, point2)\n",
    "\n",
    "    output = cv2.warpAffine(img, A, (columns, rows))\n",
    "    affine_img = PIL.Image.fromarray(np.uint8(output)) # affine rotated output\n",
    "    #imshow(output)\n",
    "    affine_img=affine_img.resize((105,105))\n",
    "    return affine_img\n",
    "   "
   ]
  },
  {
   "cell_type": "code",
   "execution_count": 6,
   "metadata": {
    "colab": {},
    "colab_type": "code",
    "id": "VCy6ReUNndh_"
   },
   "outputs": [],
   "source": [
    "def gradient_fill(image):\n",
    "    #image=cv2.imread(img_path,0)\n",
    "    laplacian = cv2.Laplacian(image,cv2.CV_64F)\n",
    "    laplacian = cv2.resize(laplacian, (105, 105))\n",
    "    return laplacian"
   ]
  },
  {
   "cell_type": "markdown",
   "metadata": {
    "colab_type": "text",
    "id": "OBLjVHT9ndiF"
   },
   "source": [
    "## Preparing Dataset"
   ]
  },
  {
   "cell_type": "code",
   "execution_count": 7,
   "metadata": {
    "colab": {},
    "colab_type": "code",
    "id": "6hc1RAaVndiI"
   },
   "outputs": [],
   "source": [
    "data_path = \"font_patch/\"\n",
    "data=[]\n",
    "labels=[]\n",
    "imagePaths = sorted(list(paths.list_images(data_path)))\n",
    "random.seed(42)\n",
    "random.shuffle(imagePaths)"
   ]
  },
  {
   "cell_type": "code",
   "execution_count": 8,
   "metadata": {
    "colab": {},
    "colab_type": "code",
    "id": "HYYzr_c1ndiN"
   },
   "outputs": [],
   "source": [
    "def conv_label(label):\n",
    "    if label == 'Lato':\n",
    "        return 0\n",
    "    elif label == 'Raleway':\n",
    "        return 1\n",
    "    elif label == 'Roboto':\n",
    "        return 2\n",
    "    elif label == 'Sansation':\n",
    "        return 3\n",
    "    elif label == 'Walkway':\n",
    "        return 4"
   ]
  },
  {
   "cell_type": "code",
   "execution_count": 9,
   "metadata": {
    "colab": {},
    "colab_type": "code",
    "id": "L5emmKqjd-3Q"
   },
   "outputs": [
    {
     "name": "stdout",
     "output_type": "stream",
     "text": [
      "['blur', 'noise', 'affine', 'gradient']\n"
     ]
    }
   ],
   "source": [
    "augument=[\"blur\",\"noise\",\"affine\",\"gradient\"]\n",
    "a=itertools.combinations(augument, 4)\n",
    "\n",
    "for i in list(a): \n",
    "    print(list(i))"
   ]
  },
  {
   "cell_type": "code",
   "execution_count": 10,
   "metadata": {
    "colab": {},
    "colab_type": "code",
    "id": "PIc22kLf4SAP"
   },
   "outputs": [],
   "source": [
    "counter=0\n",
    "for imagePath in imagePaths:\n",
    "    label = imagePath.split(os.path.sep)[-2]\n",
    "    label = conv_label(label)\n",
    "    pil_img = pil_image(imagePath)\n",
    "    #imshow(pil_img)\n",
    "    \n",
    "    # Adding original image\n",
    "    org_img = img_to_array(pil_img)\n",
    "    #print(org_img.shape)\n",
    "    data.append(org_img)\n",
    "    labels.append(label)\n",
    "    \n",
    "    augument=[\"noise\",\"blur\",\"affine\",\"gradient\"]\n",
    "    for l in range(0,len(augument)):\n",
    "    \n",
    "        a=itertools.combinations(augument, l+1)\n",
    "\n",
    "        for i in list(a): \n",
    "            combinations=list(i)\n",
    "            #print(len(combinations))\n",
    "            temp_img = pil_img\n",
    "            for j in combinations:\n",
    "            \n",
    "                if j == 'noise':\n",
    "                    # Adding Noise image\n",
    "                    temp_img = noise_image(temp_img)\n",
    "                    \n",
    "                elif j == 'blur':\n",
    "                    # Adding Blur image\n",
    "                    temp_img = blur_image(temp_img)\n",
    "                    #imshow(blur_img)\n",
    "                    \n",
    "    \n",
    "                elif j == 'affine':\n",
    "                    open_cv_affine = np.array(pil_img)\n",
    "                    # Adding affine rotation image\n",
    "                    temp_img = affine_rotation(open_cv_affine)\n",
    "\n",
    "                elif j == 'gradient':\n",
    "                    open_cv_gradient = np.array(pil_img)\n",
    "                    # Adding gradient image\n",
    "                    temp_img = gradient_fill(open_cv_gradient)\n",
    "  \n",
    "            temp_img = img_to_array(temp_img)\n",
    "            data.append(temp_img)\n",
    "            labels.append(label)"
   ]
  },
  {
   "cell_type": "code",
   "execution_count": 11,
   "metadata": {
    "colab": {
     "base_uri": "https://localhost:8080/",
     "height": 34
    },
    "colab_type": "code",
    "id": "cFpIsgdHndit",
    "outputId": "084a49bf-ee2d-4067-cbde-90d9b42bd8c6"
   },
   "outputs": [
    {
     "name": "stdout",
     "output_type": "stream",
     "text": [
      "Success\n"
     ]
    }
   ],
   "source": [
    "data = np.asarray(data, dtype=\"float\") / 255.0\n",
    "data = np.concatenate((data,data,data),axis=3)\n",
    "labels = np.array(labels)\n",
    "print(\"Success\")\n",
    "# partition the data into training and testing splits using 75% of\n",
    "# the data for training and the remaining 25% for testing\n",
    "(trainX, testX, trainY, testY) = train_test_split(data,\n",
    "\tlabels, test_size=0.25, random_state=42)"
   ]
  },
  {
   "cell_type": "code",
   "execution_count": 12,
   "metadata": {
    "colab": {},
    "colab_type": "code",
    "id": "1NQr6OCQ_3qO"
   },
   "outputs": [],
   "source": [
    "# convert the labels from integers to vectors\n",
    "trainY = to_categorical(trainY, num_classes=5)\n",
    "testY = to_categorical(testY, num_classes=5)"
   ]
  },
  {
   "cell_type": "code",
   "execution_count": 13,
   "metadata": {
    "colab": {},
    "colab_type": "code",
    "id": "9omeq7fqryGW"
   },
   "outputs": [],
   "source": [
    "aug = ImageDataGenerator(rotation_range=30, width_shift_range=0.1,height_shift_range=0.1, shear_range=0.2, zoom_range=0.2,horizontal_flip=True)"
   ]
  },
  {
   "cell_type": "code",
   "execution_count": 18,
   "metadata": {
    "colab": {},
    "colab_type": "code",
    "id": "DpDdwzQguqWR"
   },
   "outputs": [],
   "source": [
    "def create_model():\n",
    "  model = new_input = tf.keras.Input(shape=(105, 105, 3))\n",
    "  ResNet = tf.keras.applications.ResNet50V2(\n",
    "    include_top=False,\n",
    "    weights=\"imagenet\",\n",
    "    input_tensor=new_input,\n",
    "    input_shape=None,\n",
    "    pooling='avg',\n",
    "  )\n",
    "  model = Sequential()\n",
    "  model.add(ResNet)\n",
    "  model.add(Flatten())\n",
    "  model.add(Dense(5, activation='softmax'))\n",
    " \n",
    "  return model"
   ]
  },
  {
   "cell_type": "code",
   "execution_count": 19,
   "metadata": {
    "colab": {},
    "colab_type": "code",
    "id": "LSUkpdoI2J-M"
   },
   "outputs": [],
   "source": [
    "batch_size = 128\n",
    "epochs = 50\n",
    "model= create_model()\n",
    "sgd = optimizers.SGD(lr=0.01, decay=1e-6, momentum=0.9, nesterov=True)\n",
    "model.compile(loss='mean_squared_error', optimizer=sgd, metrics=['accuracy'])"
   ]
  },
  {
   "cell_type": "code",
   "execution_count": 20,
   "metadata": {
    "colab": {},
    "colab_type": "code",
    "id": "IH8DclwlLkOw"
   },
   "outputs": [],
   "source": [
    "early_stopping=callbacks.EarlyStopping(monitor='val_loss', min_delta=0, patience=10, verbose=0, mode='min')\n",
    "\n",
    "filepath=\"top_model.h5\"\n",
    "\n",
    "checkpoint = callbacks.ModelCheckpoint(filepath, monitor='val_loss', verbose=1, save_best_only=True, mode='min')\n",
    "\n",
    "callbacks_list = [early_stopping,checkpoint]"
   ]
  },
  {
   "cell_type": "code",
   "execution_count": 21,
   "metadata": {},
   "outputs": [],
   "source": [
    "aug.fit(trainX)"
   ]
  },
  {
   "cell_type": "code",
   "execution_count": 34,
   "metadata": {
    "colab": {},
    "colab_type": "code",
    "id": "ZfjlSwNt73XO"
   },
   "outputs": [
    {
     "name": "stdout",
     "output_type": "stream",
     "text": [
      "Epoch 1/50\n",
      "4/4 [==============================] - ETA: 0s - loss: 0.1873 - accuracy: 0.1645WARNING:tensorflow:Early stopping conditioned on metric `val_loss` which is not available. Available metrics are: loss,accuracy\n",
      "WARNING:tensorflow:Can save best model only with val_loss available, skipping.\n",
      "4/4 [==============================] - 2s 510ms/step - loss: 0.1873 - accuracy: 0.1645\n",
      "Epoch 2/50\n",
      "4/4 [==============================] - ETA: 0s - loss: 0.1667 - accuracy: 0.2842WARNING:tensorflow:Early stopping conditioned on metric `val_loss` which is not available. Available metrics are: loss,accuracy\n",
      "WARNING:tensorflow:Can save best model only with val_loss available, skipping.\n",
      "4/4 [==============================] - 1s 229ms/step - loss: 0.1667 - accuracy: 0.2842\n",
      "Epoch 3/50\n",
      "4/4 [==============================] - ETA: 0s - loss: 0.1507 - accuracy: 0.3846WARNING:tensorflow:Early stopping conditioned on metric `val_loss` which is not available. Available metrics are: loss,accuracy\n",
      "WARNING:tensorflow:Can save best model only with val_loss available, skipping.\n",
      "4/4 [==============================] - 1s 203ms/step - loss: 0.1507 - accuracy: 0.3846\n",
      "Epoch 4/50\n",
      "4/4 [==============================] - ETA: 0s - loss: 0.1414 - accuracy: 0.4402WARNING:tensorflow:Early stopping conditioned on metric `val_loss` which is not available. Available metrics are: loss,accuracy\n",
      "WARNING:tensorflow:Can save best model only with val_loss available, skipping.\n",
      "4/4 [==============================] - 1s 211ms/step - loss: 0.1414 - accuracy: 0.4402\n",
      "Epoch 5/50\n",
      "4/4 [==============================] - ETA: 0s - loss: 0.1233 - accuracy: 0.5470WARNING:tensorflow:Early stopping conditioned on metric `val_loss` which is not available. Available metrics are: loss,accuracy\n",
      "WARNING:tensorflow:Can save best model only with val_loss available, skipping.\n",
      "4/4 [==============================] - 1s 241ms/step - loss: 0.1233 - accuracy: 0.5470\n",
      "Epoch 6/50\n",
      "4/4 [==============================] - ETA: 0s - loss: 0.1179 - accuracy: 0.5427WARNING:tensorflow:Early stopping conditioned on metric `val_loss` which is not available. Available metrics are: loss,accuracy\n",
      "WARNING:tensorflow:Can save best model only with val_loss available, skipping.\n",
      "4/4 [==============================] - 1s 206ms/step - loss: 0.1179 - accuracy: 0.5427\n",
      "Epoch 7/50\n",
      "4/4 [==============================] - ETA: 0s - loss: 0.1017 - accuracy: 0.6453WARNING:tensorflow:Early stopping conditioned on metric `val_loss` which is not available. Available metrics are: loss,accuracy\n",
      "WARNING:tensorflow:Can save best model only with val_loss available, skipping.\n",
      "4/4 [==============================] - 1s 199ms/step - loss: 0.1017 - accuracy: 0.6453\n",
      "Epoch 8/50\n",
      "4/4 [==============================] - ETA: 0s - loss: 0.0905 - accuracy: 0.7009WARNING:tensorflow:Early stopping conditioned on metric `val_loss` which is not available. Available metrics are: loss,accuracy\n",
      "WARNING:tensorflow:Can save best model only with val_loss available, skipping.\n",
      "4/4 [==============================] - 1s 226ms/step - loss: 0.0905 - accuracy: 0.7009\n",
      "Epoch 9/50\n",
      "4/4 [==============================] - ETA: 0s - loss: 0.0843 - accuracy: 0.6987WARNING:tensorflow:Early stopping conditioned on metric `val_loss` which is not available. Available metrics are: loss,accuracy\n",
      "WARNING:tensorflow:Can save best model only with val_loss available, skipping.\n",
      "4/4 [==============================] - 1s 187ms/step - loss: 0.0843 - accuracy: 0.6987\n",
      "Epoch 10/50\n",
      "4/4 [==============================] - ETA: 0s - loss: 0.0749 - accuracy: 0.7286WARNING:tensorflow:Early stopping conditioned on metric `val_loss` which is not available. Available metrics are: loss,accuracy\n",
      "WARNING:tensorflow:Can save best model only with val_loss available, skipping.\n",
      "4/4 [==============================] - 1s 204ms/step - loss: 0.0749 - accuracy: 0.7286\n",
      "Epoch 11/50\n",
      "4/4 [==============================] - ETA: 0s - loss: 0.0672 - accuracy: 0.7756WARNING:tensorflow:Early stopping conditioned on metric `val_loss` which is not available. Available metrics are: loss,accuracy\n",
      "WARNING:tensorflow:Can save best model only with val_loss available, skipping.\n",
      "4/4 [==============================] - 1s 208ms/step - loss: 0.0672 - accuracy: 0.7756\n",
      "Epoch 12/50\n",
      "4/4 [==============================] - ETA: 0s - loss: 0.0621 - accuracy: 0.7842WARNING:tensorflow:Early stopping conditioned on metric `val_loss` which is not available. Available metrics are: loss,accuracy\n",
      "WARNING:tensorflow:Can save best model only with val_loss available, skipping.\n",
      "4/4 [==============================] - 1s 204ms/step - loss: 0.0621 - accuracy: 0.7842\n",
      "Epoch 13/50\n",
      "4/4 [==============================] - ETA: 0s - loss: 0.0529 - accuracy: 0.8397WARNING:tensorflow:Early stopping conditioned on metric `val_loss` which is not available. Available metrics are: loss,accuracy\n",
      "WARNING:tensorflow:Can save best model only with val_loss available, skipping.\n",
      "4/4 [==============================] - 1s 199ms/step - loss: 0.0529 - accuracy: 0.8397\n",
      "Epoch 14/50\n",
      "4/4 [==============================] - ETA: 0s - loss: 0.0505 - accuracy: 0.8440WARNING:tensorflow:Early stopping conditioned on metric `val_loss` which is not available. Available metrics are: loss,accuracy\n",
      "WARNING:tensorflow:Can save best model only with val_loss available, skipping.\n",
      "4/4 [==============================] - 1s 184ms/step - loss: 0.0505 - accuracy: 0.8440\n",
      "Epoch 15/50\n",
      "4/4 [==============================] - ETA: 0s - loss: 0.0497 - accuracy: 0.8355WARNING:tensorflow:Early stopping conditioned on metric `val_loss` which is not available. Available metrics are: loss,accuracy\n",
      "WARNING:tensorflow:Can save best model only with val_loss available, skipping.\n",
      "4/4 [==============================] - 1s 207ms/step - loss: 0.0497 - accuracy: 0.8355\n",
      "Epoch 16/50\n",
      "4/4 [==============================] - ETA: 0s - loss: 0.0424 - accuracy: 0.8675WARNING:tensorflow:Early stopping conditioned on metric `val_loss` which is not available. Available metrics are: loss,accuracy\n",
      "WARNING:tensorflow:Can save best model only with val_loss available, skipping.\n",
      "4/4 [==============================] - 1s 229ms/step - loss: 0.0424 - accuracy: 0.8675\n",
      "Epoch 17/50\n",
      "4/4 [==============================] - ETA: 0s - loss: 0.0389 - accuracy: 0.8654WARNING:tensorflow:Early stopping conditioned on metric `val_loss` which is not available. Available metrics are: loss,accuracy\n",
      "WARNING:tensorflow:Can save best model only with val_loss available, skipping.\n",
      "4/4 [==============================] - 1s 198ms/step - loss: 0.0389 - accuracy: 0.8654\n",
      "Epoch 18/50\n",
      "4/4 [==============================] - ETA: 0s - loss: 0.0341 - accuracy: 0.9017WARNING:tensorflow:Early stopping conditioned on metric `val_loss` which is not available. Available metrics are: loss,accuracy\n",
      "WARNING:tensorflow:Can save best model only with val_loss available, skipping.\n",
      "4/4 [==============================] - 1s 235ms/step - loss: 0.0341 - accuracy: 0.9017\n",
      "Epoch 19/50\n",
      "4/4 [==============================] - ETA: 0s - loss: 0.0304 - accuracy: 0.9081WARNING:tensorflow:Early stopping conditioned on metric `val_loss` which is not available. Available metrics are: loss,accuracy\n",
      "WARNING:tensorflow:Can save best model only with val_loss available, skipping.\n",
      "4/4 [==============================] - 1s 185ms/step - loss: 0.0304 - accuracy: 0.9081\n",
      "Epoch 20/50\n",
      "4/4 [==============================] - ETA: 0s - loss: 0.0331 - accuracy: 0.8953WARNING:tensorflow:Early stopping conditioned on metric `val_loss` which is not available. Available metrics are: loss,accuracy\n",
      "WARNING:tensorflow:Can save best model only with val_loss available, skipping.\n",
      "4/4 [==============================] - 1s 201ms/step - loss: 0.0331 - accuracy: 0.8953\n",
      "Epoch 21/50\n",
      "4/4 [==============================] - ETA: 0s - loss: 0.0279 - accuracy: 0.9209WARNING:tensorflow:Early stopping conditioned on metric `val_loss` which is not available. Available metrics are: loss,accuracy\n",
      "WARNING:tensorflow:Can save best model only with val_loss available, skipping.\n",
      "4/4 [==============================] - 1s 202ms/step - loss: 0.0279 - accuracy: 0.9209\n",
      "Epoch 22/50\n",
      "4/4 [==============================] - ETA: 0s - loss: 0.0265 - accuracy: 0.9145WARNING:tensorflow:Early stopping conditioned on metric `val_loss` which is not available. Available metrics are: loss,accuracy\n",
      "WARNING:tensorflow:Can save best model only with val_loss available, skipping.\n",
      "4/4 [==============================] - 1s 180ms/step - loss: 0.0265 - accuracy: 0.9145\n",
      "Epoch 23/50\n",
      "4/4 [==============================] - ETA: 0s - loss: 0.0231 - accuracy: 0.9338WARNING:tensorflow:Early stopping conditioned on metric `val_loss` which is not available. Available metrics are: loss,accuracy\n",
      "WARNING:tensorflow:Can save best model only with val_loss available, skipping.\n",
      "4/4 [==============================] - 1s 200ms/step - loss: 0.0231 - accuracy: 0.9338\n",
      "Epoch 24/50\n",
      "4/4 [==============================] - ETA: 0s - loss: 0.0208 - accuracy: 0.9295WARNING:tensorflow:Early stopping conditioned on metric `val_loss` which is not available. Available metrics are: loss,accuracy\n",
      "WARNING:tensorflow:Can save best model only with val_loss available, skipping.\n",
      "4/4 [==============================] - 1s 178ms/step - loss: 0.0208 - accuracy: 0.9295\n",
      "Epoch 25/50\n",
      "4/4 [==============================] - ETA: 0s - loss: 0.0216 - accuracy: 0.9466WARNING:tensorflow:Early stopping conditioned on metric `val_loss` which is not available. Available metrics are: loss,accuracy\n",
      "WARNING:tensorflow:Can save best model only with val_loss available, skipping.\n",
      "4/4 [==============================] - 1s 202ms/step - loss: 0.0216 - accuracy: 0.9466\n",
      "Epoch 26/50\n",
      "4/4 [==============================] - ETA: 0s - loss: 0.0174 - accuracy: 0.9466WARNING:tensorflow:Early stopping conditioned on metric `val_loss` which is not available. Available metrics are: loss,accuracy\n",
      "WARNING:tensorflow:Can save best model only with val_loss available, skipping.\n",
      "4/4 [==============================] - 1s 184ms/step - loss: 0.0174 - accuracy: 0.9466\n",
      "Epoch 27/50\n",
      "4/4 [==============================] - ETA: 0s - loss: 0.0167 - accuracy: 0.9615WARNING:tensorflow:Early stopping conditioned on metric `val_loss` which is not available. Available metrics are: loss,accuracy\n",
      "WARNING:tensorflow:Can save best model only with val_loss available, skipping.\n",
      "4/4 [==============================] - 1s 186ms/step - loss: 0.0167 - accuracy: 0.9615\n",
      "Epoch 28/50\n",
      "4/4 [==============================] - ETA: 0s - loss: 0.0159 - accuracy: 0.9551WARNING:tensorflow:Early stopping conditioned on metric `val_loss` which is not available. Available metrics are: loss,accuracy\n",
      "WARNING:tensorflow:Can save best model only with val_loss available, skipping.\n",
      "4/4 [==============================] - 1s 201ms/step - loss: 0.0159 - accuracy: 0.9551\n",
      "Epoch 29/50\n",
      "4/4 [==============================] - ETA: 0s - loss: 0.0146 - accuracy: 0.9551WARNING:tensorflow:Early stopping conditioned on metric `val_loss` which is not available. Available metrics are: loss,accuracy\n",
      "WARNING:tensorflow:Can save best model only with val_loss available, skipping.\n",
      "4/4 [==============================] - 1s 223ms/step - loss: 0.0146 - accuracy: 0.9551\n",
      "Epoch 30/50\n",
      "4/4 [==============================] - ETA: 0s - loss: 0.0129 - accuracy: 0.9637WARNING:tensorflow:Early stopping conditioned on metric `val_loss` which is not available. Available metrics are: loss,accuracy\n",
      "WARNING:tensorflow:Can save best model only with val_loss available, skipping.\n",
      "4/4 [==============================] - 1s 232ms/step - loss: 0.0129 - accuracy: 0.9637\n",
      "Epoch 31/50\n",
      "4/4 [==============================] - ETA: 0s - loss: 0.0115 - accuracy: 0.9701WARNING:tensorflow:Early stopping conditioned on metric `val_loss` which is not available. Available metrics are: loss,accuracy\n",
      "WARNING:tensorflow:Can save best model only with val_loss available, skipping.\n",
      "4/4 [==============================] - 1s 183ms/step - loss: 0.0115 - accuracy: 0.9701\n",
      "Epoch 32/50\n",
      "4/4 [==============================] - ETA: 0s - loss: 0.0127 - accuracy: 0.9637WARNING:tensorflow:Early stopping conditioned on metric `val_loss` which is not available. Available metrics are: loss,accuracy\n",
      "WARNING:tensorflow:Can save best model only with val_loss available, skipping.\n",
      "4/4 [==============================] - 1s 223ms/step - loss: 0.0127 - accuracy: 0.9637\n",
      "Epoch 33/50\n",
      "4/4 [==============================] - ETA: 0s - loss: 0.0104 - accuracy: 0.9701WARNING:tensorflow:Early stopping conditioned on metric `val_loss` which is not available. Available metrics are: loss,accuracy\n",
      "WARNING:tensorflow:Can save best model only with val_loss available, skipping.\n",
      "4/4 [==============================] - 1s 234ms/step - loss: 0.0104 - accuracy: 0.9701\n",
      "Epoch 34/50\n",
      "4/4 [==============================] - ETA: 0s - loss: 0.0106 - accuracy: 0.9701WARNING:tensorflow:Early stopping conditioned on metric `val_loss` which is not available. Available metrics are: loss,accuracy\n",
      "WARNING:tensorflow:Can save best model only with val_loss available, skipping.\n",
      "4/4 [==============================] - 1s 208ms/step - loss: 0.0106 - accuracy: 0.9701\n",
      "Epoch 35/50\n",
      "4/4 [==============================] - ETA: 0s - loss: 0.0092 - accuracy: 0.9701WARNING:tensorflow:Early stopping conditioned on metric `val_loss` which is not available. Available metrics are: loss,accuracy\n",
      "WARNING:tensorflow:Can save best model only with val_loss available, skipping.\n",
      "4/4 [==============================] - 1s 204ms/step - loss: 0.0092 - accuracy: 0.9701\n",
      "Epoch 36/50\n",
      "4/4 [==============================] - ETA: 0s - loss: 0.0089 - accuracy: 0.9765WARNING:tensorflow:Early stopping conditioned on metric `val_loss` which is not available. Available metrics are: loss,accuracy\n",
      "WARNING:tensorflow:Can save best model only with val_loss available, skipping.\n",
      "4/4 [==============================] - 1s 238ms/step - loss: 0.0089 - accuracy: 0.9765\n",
      "Epoch 37/50\n",
      "4/4 [==============================] - ETA: 0s - loss: 0.0087 - accuracy: 0.9850WARNING:tensorflow:Early stopping conditioned on metric `val_loss` which is not available. Available metrics are: loss,accuracy\n",
      "WARNING:tensorflow:Can save best model only with val_loss available, skipping.\n",
      "4/4 [==============================] - 1s 188ms/step - loss: 0.0087 - accuracy: 0.9850\n",
      "Epoch 38/50\n",
      "4/4 [==============================] - ETA: 0s - loss: 0.0079 - accuracy: 0.9808WARNING:tensorflow:Early stopping conditioned on metric `val_loss` which is not available. Available metrics are: loss,accuracy\n",
      "WARNING:tensorflow:Can save best model only with val_loss available, skipping.\n",
      "4/4 [==============================] - 1s 231ms/step - loss: 0.0079 - accuracy: 0.9808\n",
      "Epoch 39/50\n",
      "4/4 [==============================] - ETA: 0s - loss: 0.0067 - accuracy: 0.9893WARNING:tensorflow:Early stopping conditioned on metric `val_loss` which is not available. Available metrics are: loss,accuracy\n",
      "WARNING:tensorflow:Can save best model only with val_loss available, skipping.\n",
      "4/4 [==============================] - 1s 203ms/step - loss: 0.0067 - accuracy: 0.9893\n",
      "Epoch 40/50\n",
      "4/4 [==============================] - ETA: 0s - loss: 0.0064 - accuracy: 0.9893WARNING:tensorflow:Early stopping conditioned on metric `val_loss` which is not available. Available metrics are: loss,accuracy\n",
      "WARNING:tensorflow:Can save best model only with val_loss available, skipping.\n",
      "4/4 [==============================] - 1s 234ms/step - loss: 0.0064 - accuracy: 0.9893\n",
      "Epoch 41/50\n",
      "4/4 [==============================] - ETA: 0s - loss: 0.0056 - accuracy: 0.9893WARNING:tensorflow:Early stopping conditioned on metric `val_loss` which is not available. Available metrics are: loss,accuracy\n",
      "WARNING:tensorflow:Can save best model only with val_loss available, skipping.\n",
      "4/4 [==============================] - 1s 202ms/step - loss: 0.0056 - accuracy: 0.9893\n",
      "Epoch 42/50\n",
      "4/4 [==============================] - ETA: 0s - loss: 0.0091 - accuracy: 0.9786WARNING:tensorflow:Early stopping conditioned on metric `val_loss` which is not available. Available metrics are: loss,accuracy\n",
      "WARNING:tensorflow:Can save best model only with val_loss available, skipping.\n",
      "4/4 [==============================] - 1s 206ms/step - loss: 0.0091 - accuracy: 0.9786\n",
      "Epoch 43/50\n",
      "4/4 [==============================] - ETA: 0s - loss: 0.0085 - accuracy: 0.9722WARNING:tensorflow:Early stopping conditioned on metric `val_loss` which is not available. Available metrics are: loss,accuracy\n",
      "WARNING:tensorflow:Can save best model only with val_loss available, skipping.\n",
      "4/4 [==============================] - 1s 205ms/step - loss: 0.0085 - accuracy: 0.9722\n",
      "Epoch 44/50\n",
      "4/4 [==============================] - ETA: 0s - loss: 0.0044 - accuracy: 0.9915WARNING:tensorflow:Early stopping conditioned on metric `val_loss` which is not available. Available metrics are: loss,accuracy\n",
      "WARNING:tensorflow:Can save best model only with val_loss available, skipping.\n",
      "4/4 [==============================] - 1s 235ms/step - loss: 0.0044 - accuracy: 0.9915\n",
      "Epoch 45/50\n",
      "4/4 [==============================] - ETA: 0s - loss: 0.0052 - accuracy: 0.9893WARNING:tensorflow:Early stopping conditioned on metric `val_loss` which is not available. Available metrics are: loss,accuracy\n",
      "WARNING:tensorflow:Can save best model only with val_loss available, skipping.\n",
      "4/4 [==============================] - 1s 201ms/step - loss: 0.0052 - accuracy: 0.9893\n",
      "Epoch 46/50\n",
      "4/4 [==============================] - ETA: 0s - loss: 0.0058 - accuracy: 0.9872WARNING:tensorflow:Early stopping conditioned on metric `val_loss` which is not available. Available metrics are: loss,accuracy\n",
      "WARNING:tensorflow:Can save best model only with val_loss available, skipping.\n",
      "4/4 [==============================] - 1s 181ms/step - loss: 0.0058 - accuracy: 0.9872\n",
      "Epoch 47/50\n",
      "4/4 [==============================] - ETA: 0s - loss: 0.0035 - accuracy: 0.9957WARNING:tensorflow:Early stopping conditioned on metric `val_loss` which is not available. Available metrics are: loss,accuracy\n",
      "WARNING:tensorflow:Can save best model only with val_loss available, skipping.\n",
      "4/4 [==============================] - 1s 202ms/step - loss: 0.0035 - accuracy: 0.9957\n",
      "Epoch 48/50\n",
      "4/4 [==============================] - ETA: 0s - loss: 0.0058 - accuracy: 0.9872WARNING:tensorflow:Early stopping conditioned on metric `val_loss` which is not available. Available metrics are: loss,accuracy\n",
      "WARNING:tensorflow:Can save best model only with val_loss available, skipping.\n",
      "4/4 [==============================] - 1s 205ms/step - loss: 0.0058 - accuracy: 0.9872\n",
      "Epoch 49/50\n",
      "4/4 [==============================] - ETA: 0s - loss: 0.0051 - accuracy: 0.9872WARNING:tensorflow:Early stopping conditioned on metric `val_loss` which is not available. Available metrics are: loss,accuracy\n",
      "WARNING:tensorflow:Can save best model only with val_loss available, skipping.\n",
      "4/4 [==============================] - 1s 230ms/step - loss: 0.0051 - accuracy: 0.9872\n",
      "Epoch 50/50\n",
      "4/4 [==============================] - ETA: 0s - loss: 0.0032 - accuracy: 0.9915WARNING:tensorflow:Early stopping conditioned on metric `val_loss` which is not available. Available metrics are: loss,accuracy\n",
      "WARNING:tensorflow:Can save best model only with val_loss available, skipping.\n",
      "4/4 [==============================] - 1s 203ms/step - loss: 0.0032 - accuracy: 0.9915\n"
     ]
    },
    {
     "data": {
      "text/plain": [
       "<tensorflow.python.keras.callbacks.History at 0x7f9d6fcfe730>"
      ]
     },
     "execution_count": 34,
     "metadata": {},
     "output_type": "execute_result"
    }
   ],
   "source": [
    "model.fit(aug.flow(trainX, trainY, batch_size=batch_size),shuffle=True,\n",
    "          batch_size=batch_size,\n",
    "          epochs=epochs,\n",
    "          verbose=1,callbacks=callbacks_list)"
   ]
  },
  {
   "cell_type": "code",
   "execution_count": 35,
   "metadata": {
    "colab": {
     "base_uri": "https://localhost:8080/",
     "height": 52
    },
    "colab_type": "code",
    "id": "QLtRqPzhLOUF",
    "outputId": "7de4cd06-136d-424b-dd2d-6d1d85487384"
   },
   "outputs": [
    {
     "name": "stdout",
     "output_type": "stream",
     "text": [
      "Test loss: 0.006467811763286591\n",
      "Test accuracy: 0.9871794581413269\n"
     ]
    }
   ],
   "source": [
    "score = model.evaluate(testX, testY, verbose=0)\n",
    "print('Test loss:', score[0])\n",
    "print('Test accuracy:', score[1])"
   ]
  },
  {
   "cell_type": "code",
   "execution_count": null,
   "metadata": {},
   "outputs": [],
   "source": [
    "last_layer = tf.keras.models.Model(inputs=model.input, outputs=model.get_layer('block5_pool').output)"
   ]
  },
  {
   "cell_type": "code",
   "execution_count": null,
   "metadata": {
    "colab": {
     "base_uri": "https://localhost:8080/",
     "height": 34
    },
    "colab_type": "code",
    "id": "9oDaZS8LuWem",
    "outputId": "c308968b-442f-49da-a69e-1a87bdb1cf27"
   },
   "outputs": [],
   "source": [
    "from keras.models import load_model\n",
    "model = load_model('top_model.h5')"
   ]
  },
  {
   "cell_type": "code",
   "execution_count": null,
   "metadata": {
    "colab": {
     "base_uri": "https://localhost:8080/",
     "height": 52
    },
    "colab_type": "code",
    "id": "ltfB09zptlNN",
    "outputId": "e023e99b-eb5a-449a-e08f-b124b3f7f284"
   },
   "outputs": [],
   "source": [
    "score = model.evaluate(testX, testY, verbose=0)\n",
    "print('Test loss:', score[0])\n",
    "print('Test accuracy:', score[1])"
   ]
  },
  {
   "cell_type": "code",
   "execution_count": null,
   "metadata": {
    "colab": {},
    "colab_type": "code",
    "id": "ov6w2Kmdv4dV"
   },
   "outputs": [],
   "source": [
    "img_path=\"sample.jpg\"\n",
    "pil_im =PIL.Image.open(img_path).convert('L')\n",
    "pil_im=blur_img(pil_im)\n",
    "org_img = img_to_array(pil_im)"
   ]
  },
  {
   "cell_type": "code",
   "execution_count": null,
   "metadata": {
    "colab": {},
    "colab_type": "code",
    "id": "jN4su5FX3MzC"
   },
   "outputs": [],
   "source": [
    "def rev_conv_label(label):\n",
    "    if label == 0 :\n",
    "        return 'Lato'\n",
    "    elif label == 1:\n",
    "        return 'Raleway'\n",
    "    elif label == 2 :\n",
    "        return 'Roboto'\n",
    "    elif label == 3 :\n",
    "        return 'Sansation'\n",
    "    elif label == 4:\n",
    "        return 'Walkway'"
   ]
  },
  {
   "cell_type": "code",
   "execution_count": null,
   "metadata": {
    "colab": {},
    "colab_type": "code",
    "id": "q1yBSPTh0ooD"
   },
   "outputs": [],
   "source": [
    "data=[]\n",
    "data.append(org_img)\n",
    "data = np.asarray(data, dtype=\"float\") / 255.0"
   ]
  },
  {
   "cell_type": "code",
   "execution_count": null,
   "metadata": {
    "colab": {},
    "colab_type": "code",
    "id": "JR2YCKaaznhT"
   },
   "outputs": [],
   "source": [
    "y = model.predict_classes(data)"
   ]
  },
  {
   "cell_type": "code",
   "execution_count": null,
   "metadata": {
    "colab": {
     "base_uri": "https://localhost:8080/",
     "height": 268
    },
    "colab_type": "code",
    "id": "SQjS-Iv80iLc",
    "outputId": "75bc8aff-55d9-4675-bd36-96070ecfcf49"
   },
   "outputs": [],
   "source": [
    "label = rev_conv_label(int(y[0]))\n",
    "fig, ax = plt.subplots(1)\n",
    "ax.imshow(pil_im, interpolation='nearest', cmap=cm.gray)\n",
    "ax.text(5, 5, label , bbox={'facecolor': 'white', 'pad': 10})\n",
    "plt.show()"
   ]
  }
 ],
 "metadata": {
  "accelerator": "GPU",
  "colab": {
   "collapsed_sections": [],
   "name": "Font_Detect_Updated v1.ipynb",
   "provenance": []
  },
  "kernelspec": {
   "display_name": "Python 3",
   "language": "python",
   "name": "python3"
  },
  "language_info": {
   "codemirror_mode": {
    "name": "ipython",
    "version": 3
   },
   "file_extension": ".py",
   "mimetype": "text/x-python",
   "name": "python",
   "nbconvert_exporter": "python",
   "pygments_lexer": "ipython3",
   "version": "3.8.6"
  }
 },
 "nbformat": 4,
 "nbformat_minor": 4
}
